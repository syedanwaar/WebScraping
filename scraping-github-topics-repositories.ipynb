{
 "cells": [
  {
   "cell_type": "markdown",
   "id": "552918ad",
   "metadata": {},
   "source": [
    "# Scraping Repositories for Topics on Github\n",
    "- Web scraping is the process of extracting and parsing data from websites in an automated fashion using a computer program. It's a useful technique for creating datasets for research and learning.\n",
    "- GitHub, Inc. is a provider of Internet hosting for software development and version control using Git. It offers the distributed version control and source code management functionality of Git, plus its own features.\n",
    "- We are going to scrape the top repositories of different topics on github\n",
    "- Tools being used are Python, Pandas, BeautifulSoup4, sys and Requests."
   ]
  },
  {
   "cell_type": "markdown",
   "id": "4917b1e7",
   "metadata": {},
   "source": [
    "Here are the steps we follow:\n",
    "Project Outline :\n",
    "- We're going to scrape https://github.com/topics\n",
    "- We will get list of topics. For each topic we will get topic title, topic page url and topic description\n",
    "- We will get top 25 repositories in each topic from the topic page\n",
    "- For each repository we will grab the repo name, user name, stars and repo url\n",
    "- For each topic we create a csv file in the following format :\n",
    "```\n",
    "Repo Name,User Name,Stars,Repo URL\n",
    "```"
   ]
  },
  {
   "cell_type": "markdown",
   "id": "d9f9ebb7",
   "metadata": {},
   "source": [
    "## Scrape the list of topics from Github\n",
    "- we use requests library to download the page\n",
    "- we use bs4 to parse the downloaded page\n",
    "- we use pandas to convert the information into a dataframe\n",
    "\n",
    "Function to download the page"
   ]
  },
  {
   "cell_type": "code",
   "execution_count": 60,
   "id": "084ca5d9",
   "metadata": {},
   "outputs": [],
   "source": [
    "import requests\n",
    "from bs4 import BeautifulSoup\n",
    "import sys\n",
    "import os\n",
    "\n",
    "def get_topics_page():\n",
    "    # This function returns a beautifulsoup object of the topics page from github\n",
    "    url='https://github.com/topics'\n",
    "    try:\n",
    "        response=requests.get(url)\n",
    "    except Exception as e:\n",
    "        error_type,error_object,error_info=sys.exc_info()\n",
    "        print('Error in retrieving the url',url)\n",
    "        print(error_type,\" error in line number \",error_info.tb_lineno)\n",
    "    if response.status_code!=200:\n",
    "        raise Exception(\"Couldn't load the page\")\n",
    "    doc=BeautifulSoup(response.text,'html.parser')\n",
    "    return doc\n"
   ]
  },
  {
   "cell_type": "code",
   "execution_count": 3,
   "id": "c05844af",
   "metadata": {},
   "outputs": [],
   "source": [
    "doc=get_topics_page()"
   ]
  },
  {
   "cell_type": "code",
   "execution_count": 4,
   "id": "5705950e",
   "metadata": {},
   "outputs": [
    {
     "data": {
      "text/plain": [
       "bs4.BeautifulSoup"
      ]
     },
     "execution_count": 4,
     "metadata": {},
     "output_type": "execute_result"
    }
   ],
   "source": [
    "type(doc)"
   ]
  },
  {
   "cell_type": "markdown",
   "id": "4bcac48f",
   "metadata": {},
   "source": [
    "Let's create some helper functions to parse information from topics page"
   ]
  },
  {
   "cell_type": "code",
   "execution_count": 5,
   "id": "419da5aa",
   "metadata": {},
   "outputs": [],
   "source": [
    "def get_topic_titles(doc):\n",
    "    topic_title_tags=doc.find_all('p',attrs={'class':'f3 lh-condensed mb-0 mt-1 Link--primary'})\n",
    "    topic_titles=[]\n",
    "    for tag in topic_title_tags:\n",
    "        topic_titles.append(tag.text)\n",
    "    return topic_titles\n"
   ]
  },
  {
   "cell_type": "markdown",
   "id": "55153912",
   "metadata": {},
   "source": [
    "`get_topic_titles` can be used to get the titles of the topics on the page"
   ]
  },
  {
   "cell_type": "code",
   "execution_count": 9,
   "id": "d56c78f3",
   "metadata": {},
   "outputs": [],
   "source": [
    "topic_titles=get_topic_titles(doc)"
   ]
  },
  {
   "cell_type": "code",
   "execution_count": 10,
   "id": "34ef51b1",
   "metadata": {},
   "outputs": [
    {
     "data": {
      "text/plain": [
       "30"
      ]
     },
     "execution_count": 10,
     "metadata": {},
     "output_type": "execute_result"
    }
   ],
   "source": [
    "len(topic_titles)"
   ]
  },
  {
   "cell_type": "code",
   "execution_count": 11,
   "id": "ac293332",
   "metadata": {},
   "outputs": [
    {
     "data": {
      "text/plain": [
       "['3D', 'Ajax', 'Algorithm', 'Amp', 'Android']"
      ]
     },
     "execution_count": 11,
     "metadata": {},
     "output_type": "execute_result"
    }
   ],
   "source": [
    "topic_titles[:5]"
   ]
  },
  {
   "cell_type": "code",
   "execution_count": 23,
   "id": "dac1f518",
   "metadata": {},
   "outputs": [],
   "source": [
    "def get_topic_description(doc):\n",
    "    topic_description_tags=doc.find_all('p',class_='f5 color-fg-muted mb-0 mt-1')\n",
    "    topic_desc=[]\n",
    "    for tag in topic_description_tags:\n",
    "        topic_desc.append(tag.text.strip())\n",
    "    return topic_desc\n"
   ]
  },
  {
   "cell_type": "markdown",
   "id": "fab578ed",
   "metadata": {},
   "source": [
    "`get_topic_description` can be used to get the description of each topic on the topics page"
   ]
  },
  {
   "cell_type": "code",
   "execution_count": 24,
   "id": "f086b898",
   "metadata": {},
   "outputs": [],
   "source": [
    "topic_desc=get_topic_description(doc)"
   ]
  },
  {
   "cell_type": "code",
   "execution_count": 25,
   "id": "adbbe109",
   "metadata": {},
   "outputs": [
    {
     "data": {
      "text/plain": [
       "30"
      ]
     },
     "execution_count": 25,
     "metadata": {},
     "output_type": "execute_result"
    }
   ],
   "source": [
    "len(topic_desc)"
   ]
  },
  {
   "cell_type": "code",
   "execution_count": 26,
   "id": "a9a2aaa1",
   "metadata": {},
   "outputs": [
    {
     "data": {
      "text/plain": [
       "['3D modeling is the process of virtually developing the surface and structure of a 3D object.',\n",
       " 'Ajax is a technique for creating interactive web applications.',\n",
       " 'Algorithms are self-contained sequences that carry out a variety of tasks.',\n",
       " 'Amp is a non-blocking concurrency framework for PHP.',\n",
       " 'Android is an operating system built by Google designed for mobile devices.']"
      ]
     },
     "execution_count": 26,
     "metadata": {},
     "output_type": "execute_result"
    }
   ],
   "source": [
    "topic_desc[:5]"
   ]
  },
  {
   "cell_type": "markdown",
   "id": "35649322",
   "metadata": {},
   "source": [
    "Similarly we get van get the url's of the topics using the `get_topic_urls`function"
   ]
  },
  {
   "cell_type": "code",
   "execution_count": 52,
   "id": "d0e7dcf7",
   "metadata": {},
   "outputs": [],
   "source": [
    "base_url='https://www.github.com'\n",
    "def get_topic_urls(doc):\n",
    "    topic_link_tags=doc.find_all('a',class_=\"d-flex no-underline\",attrs={'data-ga-click':True})\n",
    "    topic_urls=[]\n",
    "    for tag in topic_link_tags:\n",
    "        topic_urls.append(base_url+tag['href'])\n",
    "    return topic_urls"
   ]
  },
  {
   "cell_type": "markdown",
   "id": "5eb0b372",
   "metadata": {},
   "source": [
    "Let's put it all together into a single function"
   ]
  },
  {
   "cell_type": "code",
   "execution_count": 53,
   "id": "66bef328",
   "metadata": {},
   "outputs": [],
   "source": [
    "import pandas as pd\n",
    "\n",
    "def scrape_topics(doc):\n",
    "    topic_titles=get_topic_titles(doc)\n",
    "    topic_desc=get_topic_description(doc)\n",
    "    topic_urls=get_topic_urls(doc)\n",
    "    topics_dict={\n",
    "        'Topic Title':topic_titles,\n",
    "        'Topic Description':topic_desc,\n",
    "        'Topic URL':topic_urls\n",
    "    }\n",
    "    return pd.DataFrame(topics_dict)"
   ]
  },
  {
   "cell_type": "code",
   "execution_count": 54,
   "id": "1f3dfef9",
   "metadata": {},
   "outputs": [],
   "source": [
    "topics_df=scrape_topics(doc)"
   ]
  },
  {
   "cell_type": "markdown",
   "id": "8e993dfc",
   "metadata": {},
   "source": [
    "Getting the first five records from the topics dataframe"
   ]
  },
  {
   "cell_type": "code",
   "execution_count": 55,
   "id": "b47abd29",
   "metadata": {},
   "outputs": [
    {
     "data": {
      "text/html": [
       "<div>\n",
       "<style scoped>\n",
       "    .dataframe tbody tr th:only-of-type {\n",
       "        vertical-align: middle;\n",
       "    }\n",
       "\n",
       "    .dataframe tbody tr th {\n",
       "        vertical-align: top;\n",
       "    }\n",
       "\n",
       "    .dataframe thead th {\n",
       "        text-align: right;\n",
       "    }\n",
       "</style>\n",
       "<table border=\"1\" class=\"dataframe\">\n",
       "  <thead>\n",
       "    <tr style=\"text-align: right;\">\n",
       "      <th></th>\n",
       "      <th>Topic Title</th>\n",
       "      <th>Topic Description</th>\n",
       "      <th>Topic URL</th>\n",
       "    </tr>\n",
       "  </thead>\n",
       "  <tbody>\n",
       "  </tbody>\n",
       "</table>\n",
       "</div>"
      ],
      "text/plain": [
       "Empty DataFrame\n",
       "Columns: [Topic Title, Topic Description, Topic URL]\n",
       "Index: []"
      ]
     },
     "execution_count": 55,
     "metadata": {},
     "output_type": "execute_result"
    }
   ],
   "source": [
    "topics_df.head()"
   ]
  },
  {
   "cell_type": "markdown",
   "id": "7fc28822",
   "metadata": {},
   "source": [
    "## Getting the top 25 repositories from a topic page"
   ]
  },
  {
   "cell_type": "markdown",
   "id": "e8db9d15",
   "metadata": {},
   "source": [
    "- Download the topic page\n",
    "- Parse the information from topic page\n",
    "- Create a dataframe for top repositories on the topic \n",
    "- Store the datsframe into a CSV file"
   ]
  },
  {
   "cell_type": "markdown",
   "id": "49a8aa44",
   "metadata": {},
   "source": [
    "Function to download the topic page"
   ]
  },
  {
   "cell_type": "code",
   "execution_count": 41,
   "id": "77b94e72",
   "metadata": {},
   "outputs": [],
   "source": [
    "def get_topic_page(topic_url):\n",
    "    #Downloading the topic page\n",
    "    try:\n",
    "        response=requests.get(topic_url)\n",
    "    except Exception as e:\n",
    "        error_type,error_object,error_info=sys.exc_info()\n",
    "        print(\"Error while retrieving the url \",topic_url)\n",
    "        print(error_type,' error in line number ',error_info.tb_lineno)\n",
    "        \n",
    "    #Checking for valid response\n",
    "    if(response.status_code!=200):\n",
    "        raise Exception(\"Failed to load page\") \n",
    "        \n",
    "    #Creating a soup object\n",
    "    topic_doc=BeautifulSoup(response.text,'html.parser')\n",
    "    \n",
    "    return topic_doc\n"
   ]
  },
  {
   "cell_type": "code",
   "execution_count": 42,
   "id": "4c6ec388",
   "metadata": {},
   "outputs": [],
   "source": [
    "doc = get_topic_page('https://github.com/topics/3d')"
   ]
  },
  {
   "cell_type": "code",
   "execution_count": 44,
   "id": "4774a79d",
   "metadata": {},
   "outputs": [
    {
     "data": {
      "text/plain": [
       "bs4.BeautifulSoup"
      ]
     },
     "execution_count": 44,
     "metadata": {},
     "output_type": "execute_result"
    }
   ],
   "source": [
    "type(doc)"
   ]
  },
  {
   "cell_type": "markdown",
   "id": "d2a3840f",
   "metadata": {},
   "source": [
    "`h3` tags with class 'f3 color-fg-muted text-normal lh-condensed' contains two a tags within which the first a tag holds the username and the second a tag contains reponame, and repoURL. The star tags contains the star rating of each repository"
   ]
  },
  {
   "cell_type": "code",
   "execution_count": 56,
   "id": "6a891b29",
   "metadata": {},
   "outputs": [],
   "source": [
    "def parse_star_counts(star):\n",
    "    star=star.strip()\n",
    "    if(star[-1]=='k'):\n",
    "        return int(float(star[:-1])*1000)\n",
    "    return int(star)\n",
    "\n",
    "def get_repo_info(repo_tag,star_tag):\n",
    "    a_tags=repo_tag.find_all('a')\n",
    "    repo_name=a_tags[1].text.strip()\n",
    "    repo_url=base_url+a_tags[1]['href']\n",
    "    username=a_tags[0].text.strip()\n",
    "    star=parse_star_counts(star_tag.text)\n",
    "    return repo_name,username,star,repo_url"
   ]
  },
  {
   "cell_type": "code",
   "execution_count": 58,
   "id": "e2bc6352",
   "metadata": {},
   "outputs": [],
   "source": [
    "repo_info=get_repo_info(doc.find(class_='f3 color-fg-muted text-normal lh-condensed'),doc.find(class_='social-count js-social-count'))"
   ]
  },
  {
   "cell_type": "code",
   "execution_count": 59,
   "id": "77dbebe3",
   "metadata": {},
   "outputs": [
    {
     "data": {
      "text/plain": [
       "('three.js', 'mrdoob', 76400, 'https://www.github.com/mrdoob/three.js')"
      ]
     },
     "execution_count": 59,
     "metadata": {},
     "output_type": "execute_result"
    }
   ],
   "source": [
    "repo_info"
   ]
  },
  {
   "cell_type": "markdown",
   "id": "65f67c7a",
   "metadata": {},
   "source": [
    "Let's write a function to create a dataframe of top repositories of a topic which has the following column names \n",
    "```\n",
    "reponame username stars url\n",
    "```"
   ]
  },
  {
   "cell_type": "code",
   "execution_count": 61,
   "id": "afb5bc91",
   "metadata": {},
   "outputs": [],
   "source": [
    "def get_topic_repos(topic_doc):\n",
    "    \"\"\"\n",
    "        This function takes topic_url as input and returns a pandas dataframe containing the following information\n",
    "        Repo Name, Username, Star, URL\n",
    "    \"\"\"\n",
    "    #Getting the repo tags to get reponame, username, url\n",
    "    repo_tags=topic_doc.find_all('h3',class_=\"f3 color-fg-muted text-normal lh-condensed\")\n",
    "    \n",
    "    #Getting the star rating of repository\n",
    "    star_tags=topic_doc.find_all('a',class_=\"social-count js-social-count\")\n",
    "    \n",
    "    #Creating a dictionary of topic repositories\n",
    "    topic_repos_dict={\n",
    "        'Repo Name':[],\n",
    "        'Username':[],\n",
    "        'Stars':[],\n",
    "        'URL':[]\n",
    "    }\n",
    "    for i in range(len(repo_tags)):\n",
    "        repo_info=get_repo_info(repo_tags[i],star_tags[i])\n",
    "        topic_repos_dict['Repo Name'].append(repo_info[0])\n",
    "        topic_repos_dict['Username'].append(repo_info[1])\n",
    "        topic_repos_dict['Stars'].append(repo_info[2])\n",
    "        topic_repos_dict['URL'].append(repo_info[3])\n",
    "        \n",
    "    #Returning a data frame of repositories information\n",
    "    return pd.DataFrame(topic_repos_dict)\n"
   ]
  },
  {
   "cell_type": "code",
   "execution_count": 62,
   "id": "31326992",
   "metadata": {},
   "outputs": [],
   "source": [
    "topic_df=get_topic_repos(doc)"
   ]
  },
  {
   "cell_type": "markdown",
   "id": "a1abecb9",
   "metadata": {},
   "source": [
    "Getting the first five records of topic dataframe i.e the topic 3D"
   ]
  },
  {
   "cell_type": "code",
   "execution_count": 65,
   "id": "c822eec7",
   "metadata": {},
   "outputs": [
    {
     "data": {
      "text/html": [
       "<div>\n",
       "<style scoped>\n",
       "    .dataframe tbody tr th:only-of-type {\n",
       "        vertical-align: middle;\n",
       "    }\n",
       "\n",
       "    .dataframe tbody tr th {\n",
       "        vertical-align: top;\n",
       "    }\n",
       "\n",
       "    .dataframe thead th {\n",
       "        text-align: right;\n",
       "    }\n",
       "</style>\n",
       "<table border=\"1\" class=\"dataframe\">\n",
       "  <thead>\n",
       "    <tr style=\"text-align: right;\">\n",
       "      <th></th>\n",
       "      <th>Repo Name</th>\n",
       "      <th>Username</th>\n",
       "      <th>Stars</th>\n",
       "      <th>URL</th>\n",
       "    </tr>\n",
       "  </thead>\n",
       "  <tbody>\n",
       "    <tr>\n",
       "      <th>0</th>\n",
       "      <td>three.js</td>\n",
       "      <td>mrdoob</td>\n",
       "      <td>76400</td>\n",
       "      <td>https://www.github.com/mrdoob/three.js</td>\n",
       "    </tr>\n",
       "    <tr>\n",
       "      <th>1</th>\n",
       "      <td>libgdx</td>\n",
       "      <td>libgdx</td>\n",
       "      <td>19300</td>\n",
       "      <td>https://www.github.com/libgdx/libgdx</td>\n",
       "    </tr>\n",
       "    <tr>\n",
       "      <th>2</th>\n",
       "      <td>react-three-fiber</td>\n",
       "      <td>pmndrs</td>\n",
       "      <td>15900</td>\n",
       "      <td>https://www.github.com/pmndrs/react-three-fiber</td>\n",
       "    </tr>\n",
       "    <tr>\n",
       "      <th>3</th>\n",
       "      <td>Babylon.js</td>\n",
       "      <td>BabylonJS</td>\n",
       "      <td>15300</td>\n",
       "      <td>https://www.github.com/BabylonJS/Babylon.js</td>\n",
       "    </tr>\n",
       "    <tr>\n",
       "      <th>4</th>\n",
       "      <td>aframe</td>\n",
       "      <td>aframevr</td>\n",
       "      <td>13300</td>\n",
       "      <td>https://www.github.com/aframevr/aframe</td>\n",
       "    </tr>\n",
       "  </tbody>\n",
       "</table>\n",
       "</div>"
      ],
      "text/plain": [
       "           Repo Name   Username  Stars  \\\n",
       "0           three.js     mrdoob  76400   \n",
       "1             libgdx     libgdx  19300   \n",
       "2  react-three-fiber     pmndrs  15900   \n",
       "3         Babylon.js  BabylonJS  15300   \n",
       "4             aframe   aframevr  13300   \n",
       "\n",
       "                                               URL  \n",
       "0           https://www.github.com/mrdoob/three.js  \n",
       "1             https://www.github.com/libgdx/libgdx  \n",
       "2  https://www.github.com/pmndrs/react-three-fiber  \n",
       "3      https://www.github.com/BabylonJS/Babylon.js  \n",
       "4           https://www.github.com/aframevr/aframe  "
      ]
     },
     "execution_count": 65,
     "metadata": {},
     "output_type": "execute_result"
    }
   ],
   "source": [
    "topic_df.head()"
   ]
  },
  {
   "cell_type": "markdown",
   "id": "61c4ab16",
   "metadata": {},
   "source": [
    "Let's write a function to put everything together and finally creating a CSV file of top repositories of a topic"
   ]
  },
  {
   "cell_type": "code",
   "execution_count": 66,
   "id": "481f1ef4",
   "metadata": {},
   "outputs": [],
   "source": [
    "def scrape_topic(topic_url,path):\n",
    "    if os.path.exists(path):\n",
    "        print('The file {} already exist'.format(path))\n",
    "        return\n",
    "    topic_df=get_topic_repos(get_topic_page(topic_url))\n",
    "    topic_df.to_csv(path,index=None)"
   ]
  },
  {
   "cell_type": "code",
   "execution_count": 69,
   "id": "d24f09b1",
   "metadata": {},
   "outputs": [],
   "source": [
    "os.makedirs('Untitled')\n",
    "scrape_topic('https://github.com/topics/3d','./Untitled/3D.csv')"
   ]
  },
  {
   "cell_type": "markdown",
   "id": "95af2085",
   "metadata": {},
   "source": [
    "## Putting it all together\n",
    "- We have a function to scrape topics from github\n",
    "- We have a funvtion to scrape top repositories of a topic and save the information into a CSV file\n",
    "- Let's create a function to put them together"
   ]
  },
  {
   "cell_type": "code",
   "execution_count": 74,
   "id": "5dd343ee",
   "metadata": {},
   "outputs": [],
   "source": [
    "def scrape_topics_repos():\n",
    "    topics_df=scrape_topics(get_topics_page())\n",
    "    os.makedirs('data2',exist_ok=True)\n",
    "    for index,row in topics_df.iterrows():\n",
    "        print(f\"Scraping the repositories of {row['Topic Title']}\")\n",
    "        scrape_topic(row['Topic URL'],'data2/{}.csv'.format(row['Topic Title']))"
   ]
  },
  {
   "cell_type": "markdown",
   "id": "1b5a6c1e",
   "metadata": {},
   "source": [
    "Let's run it to scrape all the top repos of topics on first page of github.com/topics"
   ]
  },
  {
   "cell_type": "code",
   "execution_count": 76,
   "id": "71640424",
   "metadata": {},
   "outputs": [
    {
     "name": "stdout",
     "output_type": "stream",
     "text": [
      "Scraping the repositories of 3D\n",
      "The file data2/3D.csv already exist\n",
      "Scraping the repositories of Ajax\n",
      "The file data2/Ajax.csv already exist\n",
      "Scraping the repositories of Algorithm\n",
      "The file data2/Algorithm.csv already exist\n",
      "Scraping the repositories of Amp\n",
      "The file data2/Amp.csv already exist\n",
      "Scraping the repositories of Android\n",
      "The file data2/Android.csv already exist\n",
      "Scraping the repositories of Angular\n",
      "The file data2/Angular.csv already exist\n",
      "Scraping the repositories of Ansible\n",
      "The file data2/Ansible.csv already exist\n",
      "Scraping the repositories of API\n",
      "The file data2/API.csv already exist\n",
      "Scraping the repositories of Arduino\n",
      "The file data2/Arduino.csv already exist\n",
      "Scraping the repositories of ASP.NET\n",
      "The file data2/ASP.NET.csv already exist\n",
      "Scraping the repositories of Atom\n",
      "The file data2/Atom.csv already exist\n",
      "Scraping the repositories of Awesome Lists\n",
      "The file data2/Awesome Lists.csv already exist\n",
      "Scraping the repositories of Amazon Web Services\n",
      "The file data2/Amazon Web Services.csv already exist\n",
      "Scraping the repositories of Azure\n",
      "The file data2/Azure.csv already exist\n",
      "Scraping the repositories of Babel\n",
      "The file data2/Babel.csv already exist\n",
      "Scraping the repositories of Bash\n",
      "The file data2/Bash.csv already exist\n",
      "Scraping the repositories of Bitcoin\n",
      "The file data2/Bitcoin.csv already exist\n",
      "Scraping the repositories of Bootstrap\n",
      "The file data2/Bootstrap.csv already exist\n",
      "Scraping the repositories of Bot\n",
      "The file data2/Bot.csv already exist\n",
      "Scraping the repositories of C\n",
      "The file data2/C.csv already exist\n",
      "Scraping the repositories of Chrome\n",
      "The file data2/Chrome.csv already exist\n",
      "Scraping the repositories of Chrome extension\n",
      "The file data2/Chrome extension.csv already exist\n",
      "Scraping the repositories of Command line interface\n",
      "The file data2/Command line interface.csv already exist\n",
      "Scraping the repositories of Clojure\n",
      "The file data2/Clojure.csv already exist\n",
      "Scraping the repositories of Code quality\n",
      "The file data2/Code quality.csv already exist\n",
      "Scraping the repositories of Code review\n",
      "The file data2/Code review.csv already exist\n",
      "Scraping the repositories of Compiler\n",
      "The file data2/Compiler.csv already exist\n",
      "Scraping the repositories of Continuous integration\n",
      "Scraping the repositories of COVID-19\n",
      "Scraping the repositories of C++\n"
     ]
    }
   ],
   "source": [
    "scrape_topics_repos()"
   ]
  },
  {
   "cell_type": "markdown",
   "id": "1c69e81f",
   "metadata": {},
   "source": [
    "Let's check if the CSV's were created properly"
   ]
  },
  {
   "cell_type": "code",
   "execution_count": 79,
   "id": "2321ba24",
   "metadata": {},
   "outputs": [],
   "source": [
    "_3d=pd.read_csv('./data2/3D.csv')"
   ]
  },
  {
   "cell_type": "code",
   "execution_count": 80,
   "id": "dd961403",
   "metadata": {},
   "outputs": [
    {
     "data": {
      "text/html": [
       "<div>\n",
       "<style scoped>\n",
       "    .dataframe tbody tr th:only-of-type {\n",
       "        vertical-align: middle;\n",
       "    }\n",
       "\n",
       "    .dataframe tbody tr th {\n",
       "        vertical-align: top;\n",
       "    }\n",
       "\n",
       "    .dataframe thead th {\n",
       "        text-align: right;\n",
       "    }\n",
       "</style>\n",
       "<table border=\"1\" class=\"dataframe\">\n",
       "  <thead>\n",
       "    <tr style=\"text-align: right;\">\n",
       "      <th></th>\n",
       "      <th>Repo Name</th>\n",
       "      <th>Username</th>\n",
       "      <th>Stars</th>\n",
       "      <th>URL</th>\n",
       "    </tr>\n",
       "  </thead>\n",
       "  <tbody>\n",
       "    <tr>\n",
       "      <th>0</th>\n",
       "      <td>three.js</td>\n",
       "      <td>mrdoob</td>\n",
       "      <td>76400</td>\n",
       "      <td>https://www.github.com/mrdoob/three.js</td>\n",
       "    </tr>\n",
       "    <tr>\n",
       "      <th>1</th>\n",
       "      <td>libgdx</td>\n",
       "      <td>libgdx</td>\n",
       "      <td>19300</td>\n",
       "      <td>https://www.github.com/libgdx/libgdx</td>\n",
       "    </tr>\n",
       "    <tr>\n",
       "      <th>2</th>\n",
       "      <td>react-three-fiber</td>\n",
       "      <td>pmndrs</td>\n",
       "      <td>15900</td>\n",
       "      <td>https://www.github.com/pmndrs/react-three-fiber</td>\n",
       "    </tr>\n",
       "    <tr>\n",
       "      <th>3</th>\n",
       "      <td>Babylon.js</td>\n",
       "      <td>BabylonJS</td>\n",
       "      <td>15300</td>\n",
       "      <td>https://www.github.com/BabylonJS/Babylon.js</td>\n",
       "    </tr>\n",
       "    <tr>\n",
       "      <th>4</th>\n",
       "      <td>aframe</td>\n",
       "      <td>aframevr</td>\n",
       "      <td>13300</td>\n",
       "      <td>https://www.github.com/aframevr/aframe</td>\n",
       "    </tr>\n",
       "  </tbody>\n",
       "</table>\n",
       "</div>"
      ],
      "text/plain": [
       "           Repo Name   Username  Stars  \\\n",
       "0           three.js     mrdoob  76400   \n",
       "1             libgdx     libgdx  19300   \n",
       "2  react-three-fiber     pmndrs  15900   \n",
       "3         Babylon.js  BabylonJS  15300   \n",
       "4             aframe   aframevr  13300   \n",
       "\n",
       "                                               URL  \n",
       "0           https://www.github.com/mrdoob/three.js  \n",
       "1             https://www.github.com/libgdx/libgdx  \n",
       "2  https://www.github.com/pmndrs/react-three-fiber  \n",
       "3      https://www.github.com/BabylonJS/Babylon.js  \n",
       "4           https://www.github.com/aframevr/aframe  "
      ]
     },
     "execution_count": 80,
     "metadata": {},
     "output_type": "execute_result"
    }
   ],
   "source": [
    "_3d.head()"
   ]
  },
  {
   "cell_type": "code",
   "execution_count": null,
   "id": "5baaf75f",
   "metadata": {},
   "outputs": [],
   "source": []
  }
 ],
 "metadata": {
  "kernelspec": {
   "display_name": "Python 3",
   "language": "python",
   "name": "python3"
  },
  "language_info": {
   "codemirror_mode": {
    "name": "ipython",
    "version": 3
   },
   "file_extension": ".py",
   "mimetype": "text/x-python",
   "name": "python",
   "nbconvert_exporter": "python",
   "pygments_lexer": "ipython3",
   "version": "3.8.8"
  }
 },
 "nbformat": 4,
 "nbformat_minor": 5
}
